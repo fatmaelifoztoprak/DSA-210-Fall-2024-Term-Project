{
 "cells": [
  {
   "cell_type": "code",
   "execution_count": null,
   "id": "02eb9270",
   "metadata": {},
   "outputs": [],
   "source": [
    "%matplotlib inline"
   ]
  },
  {
   "cell_type": "markdown",
   "id": "40f516fe",
   "metadata": {},
   "source": [
    "# YouTube Comment Analysis Project\n",
    "\n",
    "This project analyzes YouTube comments to uncover trends and patterns over the years. The dataset includes comments made from 2016 to 2024, focusing on the total number of comments per year."
   ]
  },
  {
   "cell_type": "markdown",
   "id": "f7b36804",
   "metadata": {},
   "source": [
    "## Necessary Imports\n",
    "Below are the libraries required for this analysis:"
   ]
  },
  {
   "cell_type": "code",
   "execution_count": null,
   "id": "7f361af6",
   "metadata": {},
   "outputs": [],
   "source": [
    "import pandas as pd\n",
    "import matplotlib.pyplot as plt\n",
    "import calendar"
   ]
  },
  {
   "cell_type": "markdown",
   "id": "1e671359",
   "metadata": {},
   "source": [
    "## Data Overview\n",
    "The dataset, `birlesmis_yorumlar.csv`, contains YouTube comments along with metadata such as timestamps. The key column used for this analysis is:\n",
    "- `Yorumun Oluşturulma Zaman Damgası`: The timestamp of the comment."
   ]
  },
  {
   "cell_type": "markdown",
   "id": "6cb33dad",
   "metadata": {},
   "source": [
    "## Data Loading and Preprocessing\n",
    "1. **Loading the Data**\n",
    "   The dataset is loaded and the timestamp column is converted to a datetime object:"
   ]
  },
  {
   "cell_type": "code",
   "execution_count": null,
   "id": "e8fce249",
   "metadata": {},
   "outputs": [],
   "source": [
    "data = pd.read_csv('birlesmis_yorumlar.csv')\n",
    "data['Yorumun Oluşturulma Zaman Damgası'] = pd.to_datetime(data['Yorumun Oluşturulma Zaman Damgası'])"
   ]
  },
  {
   "cell_type": "markdown",
   "id": "37e36d9c",
   "metadata": {},
   "source": [
    "2. **Extracting the Year**\n",
    "   The year is extracted from the timestamp for grouping:"
   ]
  },
  {
   "cell_type": "code",
   "execution_count": null,
   "id": "86812b90",
   "metadata": {},
   "outputs": [],
   "source": [
    "data['year'] = data['Yorumun Oluşturulma Zaman Damgası'].dt.year"
   ]
  },
  {
   "cell_type": "markdown",
   "id": "5fe16faf",
   "metadata": {},
   "source": [
    "3. **Grouping by Year**\n",
    "   Total comments are calculated for each year:"
   ]
  },
  {
   "cell_type": "code",
   "execution_count": null,
   "id": "401b023c",
   "metadata": {},
   "outputs": [],
   "source": [
    "yearly_comments = data.groupby('year').size().reset_index(name='total_comments')"
   ]
  },
  {
   "cell_type": "markdown",
   "id": "8565dee6",
   "metadata": {},
   "source": [
    "## Analysis\n",
    "A line chart is created to visualize the yearly comment counts:"
   ]
  },
  {
   "cell_type": "code",
   "execution_count": null,
   "id": "ba232bfa",
   "metadata": {},
   "outputs": [],
   "source": [
    "plt.figure(figsize=(10, 6))\n",
    "plt.plot(yearly_comments['year'], yearly_comments['total_comments'], marker='o')\n",
    "plt.title('Yearly Total Comment Counts')\n",
    "plt.xlabel('Year')\n",
    "plt.ylabel('Total Comments')\n",
    "plt.grid(visible=True)\n",
    "plt.xticks(yearly_comments['year'], rotation=45)\n",
    "plt.tight_layout()\n",
    "plt.show()"
   ]
  },
  {
   "cell_type": "markdown",
   "id": "86417496",
   "metadata": {},
   "source": [
    "## Results\n",
    "The following insights were derived from the analysis:\n",
    "- The highest number of comments was made in 2019.\n",
    "- There was a noticeable dip in comments in 2020 and 2021, potentially due to external factors.\n",
    "- The activity picked up again in 2023."
   ]
  },
  {
   "cell_type": "markdown",
   "id": "db4c7421",
   "metadata": {},
   "source": [
    "## Adding Yearly Comment Data and Visualization\n",
    "Here, the processed `yearly_comment_counts.csv` file is loaded and visualized as a table and a chart."
   ]
  },
  {
   "cell_type": "code",
   "execution_count": null,
   "id": "e6890ce0",
   "metadata": {},
   "outputs": [],
   "source": [
    "# Load the CSV file\n",
    "yearly_comments_df = pd.read_csv('yearly_comment_counts.csv')\n",
    "\n",
    "# Display the DataFrame\n",
    "display(yearly_comments_df)"
   ]
  },
  {
   "cell_type": "code",
   "execution_count": null,
   "id": "f31ea4ae",
   "metadata": {},
   "outputs": [],
   "source": [
    "# Plot the yearly comment counts from the CSV\n",
    "plt.figure(figsize=(10, 6))\n",
    "plt.plot(yearly_comments_df['year'], yearly_comments_df['total_comments'], marker='o')\n",
    "plt.title('Yearly Total Comment Counts')\n",
    "plt.xlabel('Year')\n",
    "plt.ylabel('Total Comments')\n",
    "plt.grid(visible=True)\n",
    "plt.xticks(yearly_comments_df['year'], rotation=45)\n",
    "plt.tight_layout()\n",
    "plt.show()"
   ]
  },
  {
   "cell_type": "markdown",
   "id": "733cc555",
   "metadata": {},
   "source": [
    "## Adding Yearly Comment Data and Visualization (with visuals in notebook)\n",
    "Here, the processed `yearly_comment_counts.csv` file is loaded and visualized as a table and a chart."
   ]
  },
  {
   "cell_type": "code",
   "execution_count": null,
   "id": "cf48c1b4",
   "metadata": {},
   "outputs": [],
   "source": [
    "# Load the CSV file\n",
    "yearly_comments_df = pd.read_csv('yearly_comment_counts.csv')\n",
    "\n",
    "# Display the DataFrame\n",
    "display(yearly_comments_df)"
   ]
  },
  {
   "cell_type": "code",
   "execution_count": null,
   "id": "d462fa11",
   "metadata": {},
   "outputs": [],
   "source": [
    "# Plot the yearly comment counts from the CSV\n",
    "plt.figure(figsize=(10, 6))\n",
    "plt.plot(yearly_comments_df['year'], yearly_comments_df['total_comments'], marker='o')\n",
    "plt.title('Yearly Total Comment Counts')\n",
    "plt.xlabel('Year')\n",
    "plt.ylabel('Total Comments')\n",
    "plt.grid(visible=True)\n",
    "plt.xticks(yearly_comments_df['year'], rotation=45)\n",
    "plt.tight_layout()\n",
    "plt.show()"
   ]
  }
 ],
 "metadata": {},
 "nbformat": 4,
 "nbformat_minor": 5
}
